{
 "cells": [
  {
   "cell_type": "markdown",
   "id": "8f52d14c",
   "metadata": {},
   "source": []
  },
  {
   "cell_type": "code",
   "execution_count": null,
   "id": "faae5c43",
   "metadata": {},
   "outputs": [],
   "source": [
    "# Don't change this cell; just run it.\n",
    "import numpy as np  # The array library."
   ]
  },
  {
   "cell_type": "markdown",
   "id": "efcdd597",
   "metadata": {},
   "source": [
    "This notebook does not have OKpy tests; please check your answers against the\n",
    "\"visual check\" hints after each question.\n",
    "\n",
    "All the cells below have errors in syntax or in logic. A syntax error happens\n",
    "when the code does not correspond to Python's rules; Python generates an error\n",
    "with some information about which bit of the code caused the problem.  A logic\n",
    "error is where the code does run, but does not do what it was intended to do.\n",
    "Run the cells to see the error, and then fix them to work correctly."
   ]
  },
  {
   "cell_type": "code",
   "execution_count": null,
   "id": "a9c3cb9c",
   "metadata": {
    "tags": [
     "raises-exception"
    ]
   },
   "outputs": [],
   "source": [
    "#- Print the numbers 0 through 2\n",
    "for my_var in np.arange(3)\n",
    "    print(my_var)"
   ]
  },
  {
   "cell_type": "markdown",
   "id": "794006c9",
   "metadata": {},
   "source": [
    "Visual check: you should see:\n",
    "\n",
    "```\n",
    "0\n",
    "1\n",
    "2\n",
    "```"
   ]
  },
  {
   "cell_type": "code",
   "execution_count": null,
   "id": "7a0aad96",
   "metadata": {
    "tags": [
     "raises-exception"
    ]
   },
   "outputs": [],
   "source": [
    "#- Add up all the numbers from 3 through 10\n",
    "total = 0\n",
    "for i in np.arange(3, 11):\n",
    "total = total + i\n",
    "print(total)"
   ]
  },
  {
   "cell_type": "markdown",
   "id": "8c6e44fa",
   "metadata": {},
   "source": [
    "Visual check - you should see 52."
   ]
  },
  {
   "cell_type": "code",
   "execution_count": null,
   "id": "77dee371",
   "metadata": {
    "tags": [
     "raises-exception"
    ]
   },
   "outputs": [],
   "source": [
    "#- Print all the numbers from 5 through 9\n",
    "for p in 56789:\n",
    "    print(p)"
   ]
  },
  {
   "cell_type": "markdown",
   "id": "1538104a",
   "metadata": {},
   "source": [
    "You should see the numbers 5, 6, 7, 8, 9 printed, each on one line."
   ]
  },
  {
   "cell_type": "code",
   "execution_count": null,
   "id": "3fe45bab",
   "metadata": {
    "tags": [
     "raises-exception"
    ]
   },
   "outputs": [],
   "source": [
    "#- Add all numbers from 3 down to -2, inclusive\n",
    "total = 0\n",
    "for i = np.arange(3, -4, -1):\n",
    "    total = total + i\n",
    "print(total)"
   ]
  },
  {
   "cell_type": "markdown",
   "id": "2e4582ab",
   "metadata": {},
   "source": [
    "Visual check - you should have printed 3."
   ]
  },
  {
   "cell_type": "code",
   "execution_count": null,
   "id": "a9451b38",
   "metadata": {
    "tags": [
     "raises-exception"
    ]
   },
   "outputs": [],
   "source": [
    "#- Add up the squares of all the even numbers from -2 through 20\n",
    "total = 0\n",
    "for v in np.arange(-2, 21):\n",
    "    squared = v ** 2\n",
    "     total = total + squared\n",
    "print(total)"
   ]
  },
  {
   "cell_type": "markdown",
   "id": "d0dba27b",
   "metadata": {},
   "source": [
    "Visual check - you should see 1544."
   ]
  },
  {
   "cell_type": "code",
   "execution_count": null,
   "id": "7ae0b3db",
   "metadata": {},
   "outputs": [],
   "source": [
    "#- Add all the odd numbers from 11 through 21\n",
    "total = 0\n",
    "for value in np.arange(11, 21):\n",
    "    total = total + value\n",
    "print(total)"
   ]
  },
  {
   "cell_type": "markdown",
   "id": "487ddeef",
   "metadata": {},
   "source": [
    "Visual check - you should see 96.  If you don't, check that the first number\n",
    "from your `arange` is 11, and the last is 22."
   ]
  },
  {
   "cell_type": "code",
   "execution_count": null,
   "id": "d06597b1",
   "metadata": {},
   "outputs": [],
   "source": [
    "#- Print all the numbers starting from 100, and subtracting 7\n",
    "#- up to the last positive number.  The first three\n",
    "#- numbers you will print will be 100, 93, 86\n",
    "for i in np.arange(100, 7, 7):\n",
    "    print(i)"
   ]
  },
  {
   "cell_type": "markdown",
   "id": "dcac5962",
   "metadata": {},
   "source": [
    "Visual check - you should see the numbers 100, 93, ..., 9, 2 printed, each on\n",
    "one line."
   ]
  },
  {
   "cell_type": "code",
   "execution_count": null,
   "id": "4782f487",
   "metadata": {},
   "outputs": [],
   "source": [
    "#- Add every third number in the inclusive range 1 through 19.\n",
    "#- The first two numbers to add will therefore be 1, 4 and the last\n",
    "#- will be 19.\n",
    "total = 0\n",
    "for i in np.arange(1, 21):\n",
    "    total = total + 1\n",
    "print(total)"
   ]
  },
  {
   "cell_type": "markdown",
   "id": "c1fc54e5",
   "metadata": {},
   "source": [
    "Visual check - the result should be 70."
   ]
  }
 ],
 "metadata": {
  "jupytext": {
   "text_representation": {
    "extension": ".Rmd",
    "format_name": "rmarkdown",
    "format_version": "1.2",
    "jupytext_version": "1.10.3"
   }
  },
  "kernelspec": {
   "display_name": "Python 3 (ipykernel)",
   "language": "python",
   "name": "python3"
  }
 },
 "nbformat": 4,
 "nbformat_minor": 5
}
